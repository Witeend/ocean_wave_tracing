{
 "cells": [
  {
   "cell_type": "markdown",
   "id": "cdcf9350",
   "metadata": {},
   "source": [
    "# Script for verifying model output against Snell's law\n",
    "With and without ambient currents"
   ]
  },
  {
   "cell_type": "code",
   "execution_count": 1,
   "id": "c937d91d",
   "metadata": {},
   "outputs": [],
   "source": [
    "import numpy as np\n",
    "import matplotlib.pyplot as plt\n",
    "import cmocean\n",
    "import xarray as xa\n",
    "import scipy.ndimage as sn\n",
    "\n",
    "import sys,os\n",
    "testdir = os.path.dirname(os.getcwd() + '/')\n",
    "srcdir = '..'\n",
    "sys.path.insert(0, os.path.abspath(os.path.join(testdir, srcdir)))\n",
    "\n",
    "from ocean_wave_tracing import Wave_tracing\n",
    "\n",
    "%matplotlib inline"
   ]
  },
  {
   "cell_type": "markdown",
   "id": "f33f6401",
   "metadata": {},
   "source": [
    "## Create domain"
   ]
  },
  {
   "cell_type": "code",
   "execution_count": 2,
   "id": "ca5dac96",
   "metadata": {},
   "outputs": [
    {
     "data": {
      "image/png": "[encoded data removed]",
      "text/plain": [
       "<Figure size 432x288 with 2 Axes>"
      ]
     },
     "metadata": {
      "needs_background": "light"
     },
     "output_type": "display_data"
    }
   ],
   "source": [
    "dx=dy=50 #m\n",
    "\n",
    "nny, nnx = (200,300)\n",
    "xx = np.arange(nnx)*dx\n",
    "yy = np.arange(nny)*dy\n",
    "\n",
    "xx_bat, yy_bat=np.meshgrid(np.linspace(1,0,nny),np.linspace(1,0,nnx))\n",
    "\n",
    "depth_max = 100\n",
    "depth_min = 10\n",
    "\n",
    "depth_profile = np.arange(depth_min,depth_max+depth_min,depth_min)[::-1]\n",
    "indicices_increment = int(nnx/depth_profile.size) \n",
    "\n",
    "bathymetry = np.ones((nny,nnx))\n",
    "\n",
    "for j,i in enumerate(range(0,nnx,indicices_increment)):\n",
    "    upper_limit = i+indicices_increment\n",
    "    bathymetry[:,i:upper_limit] = depth_profile[j]\n",
    "    \n",
    "# Zero currents\n",
    "zero_current = np.zeros((nny,nnx))\n",
    "\n",
    "bathymetry_smooth=sn.filters.gaussian_filter(bathymetry,sigma=2)\n",
    "\n",
    "fig,ax = plt.subplots(nrows=1,ncols=1)\n",
    "\n",
    "pc0 = ax.pcolormesh(xx,yy,bathymetry,cmap=cmocean.cm.deep_r, shading='auto')\n",
    "cbar = plt.colorbar(pc0)"
   ]
  },
  {
   "cell_type": "markdown",
   "id": "3d858d18",
   "metadata": {},
   "source": [
    "## Defining a shallow water wave"
   ]
  },
  {
   "cell_type": "code",
   "execution_count": 7,
   "id": "3c1519db",
   "metadata": {},
   "outputs": [
    {
     "name": "stdout",
     "output_type": "stream",
     "text": [
      "0.01\n",
      "319.27542840705047\n"
     ]
    }
   ],
   "source": [
    "def is_shallow_water(d,lambd):\n",
    "    \"\"\" Test if a wave can be defined as a shallow water wave\n",
    "    \"\"\"\n",
    "    print(d/lambd)\n",
    "    if d/lambd <= 0.04:\n",
    "        return True\n",
    "    else:\n",
    "        return False\n",
    "    \n",
    "lambd = 10000 # wave length\n",
    "\n",
    "if is_shallow_water(d=depth_max,lambd=lambd):\n",
    "    wave_period = lambd/np.sqrt(9.81*depth_max)\n",
    "    \n",
    "    print(wave_period)"
   ]
  },
  {
   "cell_type": "markdown",
   "id": "b07dbc5f",
   "metadata": {},
   "source": [
    "## Solve the wave ray equations"
   ]
  },
  {
   "cell_type": "code",
   "execution_count": 5,
   "id": "5ee9a76a",
   "metadata": {},
   "outputs": [],
   "source": [
    "# SET conditions for wave tracing\n",
    "nb_wave_rays = 1#nx\n",
    "T = 600\n",
    "nt = 2000\n",
    "#i_w_side = 'left'\n",
    "theta0 = np.pi/8\n",
    "\n",
    "X0, XN = xx[0], xx[-1]\n",
    "Y0, YN = yy[0], yy[-1]\n",
    "ipx=float(xx[0])\n",
    "ipy = float(0.5*YN-Y0)"
   ]
  },
  {
   "cell_type": "code",
   "execution_count": 8,
   "id": "40d9b436",
   "metadata": {},
   "outputs": [],
   "source": [
    "wt_z = Wave_tracing(U=zero_current, V=zero_current, \n",
    "                      nx=nnx, ny=nny,\n",
    "                      nt=nt,T=T,\n",
    "                      dx=dx,\n",
    "                      dy=dy,\n",
    "                      nb_wave_rays=nb_wave_rays,\n",
    "                      domain_X0=X0, domain_XN=XN,\n",
    "                      domain_Y0=Y0, domain_YN=YN,                      \n",
    "                      temporal_evolution=False, d=bathymetry,\n",
    "                      DEBUG=False)\n",
    "wt_z.set_initial_condition(wave_period=wave_period, theta0=theta0,\n",
    "                           ipx=ipx,ipy=ipy)#incoming_wave_side=i_w_side)\n",
    "wt_z.solve()"
   ]
  },
  {
   "cell_type": "markdown",
   "id": "e0a81c43",
   "metadata": {},
   "source": [
    "## Snell's law\n",
    "$$\n",
    "\\frac{sin(\\theta_1)}{sin(\\theta_2)} = \\frac{c_1}{c_2} \\\\\n",
    "$$\n",
    "\n"
   ]
  },
  {
   "cell_type": "code",
   "execution_count": 9,
   "id": "a3ad23a2",
   "metadata": {},
   "outputs": [
    {
     "name": "stdout",
     "output_type": "stream",
     "text": [
      "Difference theory vs. model: -0.035 degrees.\n",
      "Difference percentage: -0.204%.\n"
     ]
    }
   ],
   "source": [
    "ray_id = 0\n",
    "idt0=0\n",
    "\n",
    "c1 = wt_z.ray_cg[ray_id,idt0]\n",
    "theta_1 = wt_z.ray_theta[ray_id,idt0]\n",
    "\n",
    "c2 = wt_z.ray_cg[ray_id,-4]\n",
    "\n",
    "theta_2 = np.arcsin((c2/c1) * np.sin(theta_1))\n",
    "theta_2 %= (2*np.pi) # for negative angles\n",
    "\n",
    "diff = theta_2 - wt_z.ray_theta[ray_id,-2] \n",
    "print('Difference theory vs. model: {} degrees.'.format(np.round(diff*(180/np.pi),3)))\n",
    "print('Difference percentage: {}%.'.format(np.round((diff*(180/np.pi))/theta_2,3)))\n",
    "#np.tanh(wt_z.k[ray_id,0]*wt_z.d.values[ray_id,0]), c2/c1"
   ]
  },
  {
   "cell_type": "code",
   "execution_count": 10,
   "id": "fbdebe24",
   "metadata": {},
   "outputs": [],
   "source": [
    "# find all wave celerity regimes\n",
    "indices =  np.array([i for i in range(int(0.5*indicices_increment),nnx-int(0.5*indicices_increment),indicices_increment)])\n",
    "ray_x_indices = [np.argmin(np.abs(wt_z.ray_x-wt_z.x[i])) for i in indices]\n",
    "\n",
    "#print(wt_z.ray_cg[0,ray_x_indices])\n",
    "#print(wt_z.ray_theta[0,ray_x_indices])"
   ]
  },
  {
   "cell_type": "code",
   "execution_count": 11,
   "id": "260434ad",
   "metadata": {},
   "outputs": [],
   "source": [
    "analytical_theta1s = []\n",
    "analytical_theta2s = []\n",
    "analytical_c1s = []\n",
    "analytical_c2s = []\n",
    "\n",
    "for i in range(len(ray_x_indices)-1):\n",
    "    t1 = wt_z.ray_theta[ray_id,ray_x_indices[i]]\n",
    "    if i == 0:\n",
    "        analytical_theta2s.append(t1) # for comparison with model output\n",
    "    c1 = wt_z.ray_cg[ray_id,ray_x_indices[i]]\n",
    "    c2 = wt_z.ray_cg[ray_id,ray_x_indices[i+1]]\n",
    "    \n",
    "    t2 = np.arcsin((c2/c1) * np.sin(t1))\n",
    "    t2 %= (2*np.pi) # for negative angles\n",
    "    \n",
    "    analytical_theta1s.append(t1)\n",
    "    analytical_theta2s.append(t2)\n",
    "    analytical_c1s.append(c1)\n",
    "    analytical_c2s.append(c2)\n",
    "    \n",
    "    "
   ]
  },
  {
   "cell_type": "code",
   "execution_count": 12,
   "id": "ff5568bf",
   "metadata": {},
   "outputs": [
    {
     "name": "stdout",
     "output_type": "stream",
     "text": [
      "Difference theory vs. model: [ 0.     0.021  0.063 -0.005  0.008 -0.002 -0.048 -0.058  0.004] degrees.\n",
      "Difference percentage: [0.0 0.099 0.317 0.027 0.049 0.011 0.342 0.475 0.04]%.\n"
     ]
    }
   ],
   "source": [
    "ddiff = analytical_theta2s-wt_z.ray_theta[ray_id,ray_x_indices]\n",
    "ddiff_degs = np.round(ddiff*(180/np.pi),3)\n",
    "ddiff_perc = np.round(np.abs(((analytical_theta2s-wt_z.ray_theta[ray_id,ray_x_indices])/analytical_theta2s)*100),3)\n",
    "\n",
    "print('Difference theory vs. model: {} degrees.'.format(ddiff_degs))\n",
    "print('Difference percentage: {}%.'.format(ddiff_perc))"
   ]
  },
  {
   "cell_type": "code",
   "execution_count": 14,
   "id": "c30d22ea",
   "metadata": {},
   "outputs": [],
   "source": [
    "#print(ddiff_degs)\n",
    "#print(analytical_theta2s)\n",
    "#print(wt_z.ray_theta[ray_id,ray_x_indices])"
   ]
  },
  {
   "cell_type": "code",
   "execution_count": 15,
   "id": "a2b8b932",
   "metadata": {},
   "outputs": [],
   "source": [
    "#print(((analytical_theta2s-wt_z.ray_theta[ray_id,ray_x_indices])/analytical_theta2s)*100)"
   ]
  },
  {
   "cell_type": "markdown",
   "id": "61139292",
   "metadata": {},
   "source": [
    "# With ambient current"
   ]
  },
  {
   "cell_type": "code",
   "execution_count": 16,
   "id": "1d1ef655",
   "metadata": {},
   "outputs": [],
   "source": [
    "V = np.zeros((nny,nnx))\n",
    "current_speed = 2#1.5#[m/s]\n",
    "V[:,40::] = current_speed\n",
    "theta0_v = float(np.deg2rad(50))#np.pi/4\n",
    "\n",
    "wave_period_v = 10\n",
    "\n",
    "\n",
    "wt_v = Wave_tracing(U=zero_current, V=V, \n",
    "                      nx=nnx, ny=nny,\n",
    "                      nt=nt,T=T,\n",
    "                      dx=dx,\n",
    "                      dy=dy, \n",
    "                      nb_wave_rays=nb_wave_rays,\n",
    "                      domain_X0=X0, domain_XN=XN,\n",
    "                      domain_Y0=Y0, domain_YN=YN,                      \n",
    "                      temporal_evolution=False, d=None,\n",
    "                      DEBUG=False)\n",
    "wt_v.set_initial_condition(wave_period=wave_period_v, theta0=theta0_v,ipx=ipx,ipy=ipy)\n",
    "wt_v.solve()"
   ]
  },
  {
   "cell_type": "markdown",
   "id": "40e24966",
   "metadata": {},
   "source": [
    "## Snell's law after Jonsson\n",
    "$$\n",
    "sin(\\alpha_2)= \\frac{sin(\\alpha_1)}{(1- \\frac{u}{c} sin(\\alpha_1))^2} \\\\\n",
    "$$\n"
   ]
  },
  {
   "cell_type": "code",
   "execution_count": 17,
   "id": "d2e41858",
   "metadata": {},
   "outputs": [],
   "source": [
    "def snells_law_current(alpha_1, U, c0):\n",
    "    rhs = ((np.sin(alpha_1)) / (1 - (U/c0) * np.sin(alpha_1))**2)\n",
    "    print(U/c0, rhs)\n",
    "    alpha_2 = np.arcsin(rhs )\n",
    "    return alpha_2"
   ]
  },
  {
   "cell_type": "code",
   "execution_count": 22,
   "id": "cec82d06",
   "metadata": {},
   "outputs": [
    {
     "name": "stdout",
     "output_type": "stream",
     "text": [
      "0.12809755977940032 0.9418127535998623\n",
      "Difference theory vs. model: 0.403 degrees.\n",
      "Difference percentage: 0.573%.\n"
     ]
    }
   ],
   "source": [
    "alpha_1 =  theta0_v\n",
    "c = wt_v.c_intrinsic(wt_v.ray_k[ray_id,idt0],d=1e5,group_velocity=False)\n",
    "\n",
    "rhs = ((np.sin(alpha_1)) / (1 - (current_speed/c) * np.sin(alpha_1))**2)\n",
    "\n",
    "alpha_2 = np.arcsin(rhs)\n",
    "alpha_2=snells_law_current(alpha_1=alpha_1,U=current_speed,c0=c)\n",
    "\n",
    "wt_v.ray_theta[ray_id,-1]\n",
    "\n",
    "diff_v = alpha_2 - wt_v.ray_theta[ray_id,-1] \n",
    "diff_v_deg = np.round(diff_v*(180/np.pi),3)\n",
    "diff_v_perc = np.round(((np.abs((alpha_2 - wt_v.ray_theta[ray_id,-1])/alpha_2))*100),3)\n",
    "print('Difference theory vs. model: {} degrees.'.format(diff_v_deg))\n",
    "print('Difference percentage: {}%.'.format(diff_v_perc))"
   ]
  },
  {
   "cell_type": "code",
   "execution_count": 23,
   "id": "78292785",
   "metadata": {},
   "outputs": [
    {
     "data": {
      "text/plain": [
       "1.2279830769458548"
      ]
     },
     "execution_count": 23,
     "metadata": {},
     "output_type": "execute_result"
    }
   ],
   "source": [
    "\n",
    "alpha_2"
   ]
  },
  {
   "cell_type": "code",
   "execution_count": 25,
   "id": "6f119a98",
   "metadata": {},
   "outputs": [],
   "source": [
    "fs=14\n",
    "fig,ax = plt.subplots(nrows=2,sharex=True,sharey=True,figsize=(12,8))\n",
    " \n",
    "pc=ax[0].pcolormesh(wt_z.x,wt_z.y,-wt_z.d,shading='auto',cmap=cmocean.cm.deep_r,\n",
    "                         vmin=-110,vmax=0)\n",
    "    \n",
    "\n",
    "ax[0].plot(wt_z.ray_x[:,0],wt_z.ray_y[:,0],'o')\n",
    "ax[0].plot(wt_z.ray_x[0,:],wt_z.ray_y[0,:],'-k',\n",
    "        lw=3,alpha=1,label='Wave ray')\n",
    "ax[0].plot(wt_z.ray_x[0,ray_x_indices[1::]],wt_z.ray_y[0,ray_x_indices[1::]],\n",
    "        marker='s',ms=10,ls='None',alpha=1,c='tab:red')\n",
    "\n",
    "for j,i in enumerate(ray_x_indices[1::]):\n",
    "    ax[0].text(wt_z.ray_x[0,i],wt_z.ray_y[0,i]+500,\n",
    "            r'$\\phi_2=${}$^\\circ$'.format(np.round(analytical_theta2s[j+1]*(180/np.pi),2)),horizontalalignment='center',\n",
    "            fontsize=fs-4,c='1')\n",
    "\n",
    "    ax[0].text(wt_z.ray_x[0,i],wt_z.ray_y[0,i]-700,\n",
    "            r'$\\Delta=${}%'.format(ddiff_perc[j+1]),horizontalalignment='center',\n",
    "            fontsize=fs-4,c='1')\n",
    "\n",
    "    \n",
    "pc2=ax[1].pcolormesh(wt_v.x,wt_v.y,wt_v.V.isel(time=0),shading='auto',cmap=cmocean.cm.speed,vmin=0,vmax=3)\n",
    "jump=30\n",
    "ax[1].quiver(wt_v.x[::jump], wt_v.y[::jump], \n",
    "          wt_v.U.isel(time=0)[::jump,::jump],\n",
    "          wt_v.V.isel(time=0)[::jump,::jump],color='k',scale=35)\n",
    "\n",
    "    \n",
    "\n",
    "ax[1].plot(wt_v.ray_x[:,0],wt_v.ray_y[:,0],'o')\n",
    "ax[1].plot(wt_v.ray_x[0,:],wt_v.ray_y[0,:],'-r',lw=4,alpha=1,label='Wave ray')        \n",
    "\n",
    "ax[1].text(2200,7200,\n",
    "            r'$\\Delta=${}%'.format(diff_v_perc),horizontalalignment='left',\n",
    "            fontsize=fs-2,c='1')\n",
    "    \n",
    "ax[1].set_xlabel('[m]',fontsize=fs)\n",
    "ax[1].set_ylabel('[m]',fontsize=fs)\n",
    "    \n",
    "\n",
    "ax[0].set_xlim([wt_z.domain_X0,wt_z.domain_XN])\n",
    "ax[0].set_ylim([2000,wt_z.domain_YN])\n",
    "ax[0].set_ylabel('[m]',fontsize=fs)\n",
    "\n",
    "fig.tight_layout()\n",
    "\n",
    "cb = fig.colorbar(pc,ax=ax[0])\n",
    "cb.set_label('Depth [m]',fontsize=fs)\n",
    "cb.ax.tick_params(labelsize=fs-2) \n",
    "\n",
    "cb1 = fig.colorbar(pc2)\n",
    "cb1.set_label(r'$V(x)$ [m/s]',fontsize=fs)\n",
    "cb1.ax.tick_params(labelsize=fs-2) \n",
    "\n",
    "\n",
    "\n",
    "for aax in ax.flatten():\n",
    "    aax.tick_params(labelsize=fs)\n",
    "    aax.legend(fontsize=fs,loc='lower right')\n",
    "\n",
    "#fig.savefig('snells_law_bath_and_current.png',dpi=120)\n",
    "plt.close(fig)"
   ]
  },
  {
   "cell_type": "code",
   "execution_count": null,
   "id": "cfdf3d06",
   "metadata": {},
   "outputs": [],
   "source": []
  }
 ],
 "metadata": {
  "kernelspec": {
   "display_name": "Python 3 (ipykernel)",
   "language": "python",
   "name": "python3"
  },
  "language_info": {
   "codemirror_mode": {
    "name": "ipython",
    "version": 3
   },
   "file_extension": ".py",
   "mimetype": "text/x-python",
   "name": "python",
   "nbconvert_exporter": "python",
   "pygments_lexer": "ipython3",
   "version": "3.9.6"
  }
 },
 "nbformat": 4,
 "nbformat_minor": 5
}
