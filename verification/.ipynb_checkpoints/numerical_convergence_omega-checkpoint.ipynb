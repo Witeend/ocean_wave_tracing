{
 "cells": [
  {
   "cell_type": "markdown",
   "id": "ff84499d",
   "metadata": {},
   "source": [
    "# Verify that absolute frequency $\\omega$ is constant\n",
    "\n",
    "Velocity field \n",
    "\n",
    "$$\\mathbf{U} = (U(x),0,0),$$\n",
    "which is a steady current only varying  distance. Alternatively\n",
    "\n",
    "$$\\mathbf{U} = (U(x-ct),0,0),$$\n",
    "which is a steady current propagating in a frame of reference moving with velocity $C$.\n"
   ]
  },
  {
   "cell_type": "code",
   "execution_count": 7,
   "id": "49a53d53",
   "metadata": {},
   "outputs": [],
   "source": [
    "import numpy as np\n",
    "import matplotlib.pyplot as plt\n",
    "from scipy.stats import norm\n",
    "import cmocean\n",
    "import xarray as xa\n",
    "import pytest\n",
    "\n",
    "\n",
    "import sys,os\n",
    "testdir = os.path.dirname(os.getcwd() + '/')\n",
    "srcdir = '..'\n",
    "sys.path.insert(0, os.path.abspath(os.path.join(testdir, srcdir)))\n",
    "\n",
    "from ocean_wave_tracing import Wave_tracing\n",
    "\n",
    "\n",
    "#%matplotlib inline"
   ]
  },
  {
   "cell_type": "code",
   "execution_count": 8,
   "id": "6bec9ff6",
   "metadata": {},
   "outputs": [],
   "source": [
    "from ocean_wave_tracing.util_solvers import ForwardEuler"
   ]
  },
  {
   "cell_type": "code",
   "execution_count": 9,
   "id": "3158b519",
   "metadata": {},
   "outputs": [],
   "source": [
    "ncin = xa.open_dataset('../notebooks/idealized_input.nc')"
   ]
  },
  {
   "cell_type": "code",
   "execution_count": 10,
   "id": "f07b77b7",
   "metadata": {},
   "outputs": [],
   "source": [
    "U = ncin.U_zero.isel(time=0).copy()\n",
    "U[:,20::] = -1\n"
   ]
  },
  {
   "cell_type": "code",
   "execution_count": 11,
   "id": "84264023",
   "metadata": {},
   "outputs": [],
   "source": [
    "X = ncin.x.data\n",
    "Y = ncin.y.data\n",
    "nx = len(X)\n",
    "ny = len(Y)\n",
    "dx=dy=X[1]-X[0]\n",
    "nb_wave_rays = 10#550#nx\n",
    "T = 1000\n",
    "nt = 200#500 # 1500\n",
    "wave_period = 10 #s\n",
    "X0, XN = X[0], X[-1] \n",
    "Y0, YN = Y[0], Y[-1]\n",
    "\n",
    "i_w_side = 'left'\n",
    "theta0=0\n",
    "idt0=0\n"
   ]
  },
  {
   "cell_type": "code",
   "execution_count": 12,
   "id": "032991e8",
   "metadata": {},
   "outputs": [
    {
     "name": "stdout",
     "output_type": "stream",
     "text": [
      "8.806549958657467 6.404877988970008\n",
      "4.403274979328733 6.404877988970008\n",
      "1.7613099917314934 2.080305227895062\n",
      "1.174206661154329 0.5428860926004061\n",
      "0.8806549958657467 -0.24546955532181963\n",
      "0.44032749793287335 0.8507042024007319\n",
      "0.29355166528858223 -0.3125063843620607\n",
      "0.17613099917314934 0.13586044107945272\n",
      "0.12580785655224952 -0.0015814090866245211\n"
     ]
    }
   ],
   "source": [
    "omega_x = []\n",
    "X_coor = []\n",
    "C = []\n",
    "Del = []\n",
    "kk = []\n",
    "ddt = []\n",
    "for nt in [10,20,50,75,100,200,300,500,700]:\n",
    "    wt = Wave_tracing(U, ncin.V_zero.isel(time=0), \n",
    "    #wt = Wave_tracing(ncin.U.isel(time=7), ncin.V.isel(time=7), \n",
    "                        nx, ny, nt,T,dx,dy, nb_wave_rays=nb_wave_rays,\n",
    "                        domain_X0=X0, domain_XN=XN,\n",
    "                        domain_Y0=Y0, domain_YN=YN,\n",
    "                         )\n",
    "    wt.set_initial_condition(wave_period, theta0,incoming_wave_side=i_w_side)\n",
    "    wt.solve()\n",
    "    \n",
    "    courant = wt.C\n",
    "    omega_field = wt.sigma(wt.ray_k,wt.ray_depth) + wt.ray_kx*wt.ray_U + wt.ray_ky*wt.ray_V\n",
    "    Delta = ((omega_field[5,0]-omega_field[5,-2])/omega_field[5,0])*100\n",
    "    print(courant, Delta)\n",
    "    \n",
    "    omega_x.append(omega_field)\n",
    "    X_coor.append(wt.ray_x[4,:])\n",
    "    C.append(courant)\n",
    "    Del.append(Delta)\n",
    "    kk.append(wt.ray_k[4,:])\n",
    "    ddt.append(wt.dt)\n",
    "\n"
   ]
  },
  {
   "cell_type": "code",
   "execution_count": 16,
   "id": "76645ee1",
   "metadata": {},
   "outputs": [],
   "source": [
    "fs=17\n",
    "\n",
    "fig,ax = plt.subplots(figsize=(14,5))\n",
    "colors = cmocean.cm.thermal(np.linspace(0,1,len(X_coor)))\n",
    "for i in range(len(X_coor)):\n",
    "    y = omega_x[i][3][0:-1]/ omega_x[i][3][0]\n",
    "    ax.plot(X_coor[i][0:-1],y,\n",
    "            '-o',\n",
    "            label=r'C={}, $\\Delta=${}%'.format(np.round(C[i],2), np.round(np.abs(Del[i]),2)),\n",
    "            c=colors[i],\n",
    "           lw=2,\n",
    "           alpha=0.8)\n",
    "    \n",
    "ax.legend(fontsize=fs-6)\n",
    "ax.grid()\n",
    "ax.set_ylabel(r'$\\omega/\\omega_{0}$',fontsize=fs)\n",
    "ax.set_xlabel(r'$X$[m]',fontsize=fs)\n",
    "ax.set_xlim([1000,3000])\n",
    "ax.set_ylim([0.932,1.033])\n",
    "\n",
    "ax.axvline(wt.x[19],c='tab:green',ls='--',lw=4,alpha=0.4)\n",
    "ax.axvline(wt.x[20],c='tab:green',ls='--',lw=4,alpha=0.4)\n",
    "ax.fill_between(wt.x[20::],0,2,color='tab:green',alpha=0.4)\n",
    "\n",
    "\n",
    "ax.text(wt.x[11],1.025,r'U=0, $\\omega=\\omega_0$',fontsize=fs-3,c='k',horizontalalignment='center')\n",
    "ax.text(wt.x[29],1.025,r'U=-1',fontsize=fs-3,c='k',horizontalalignment='center')\n",
    "ax.text(wt.x[20],1.035,r'U=-1',fontsize=fs-3,c='k',horizontalalignment='center')\n",
    "ax.text(wt.x[19],1.035,r'U=0',fontsize=fs-3,c='k',horizontalalignment='center')\n",
    "\n",
    "\n",
    "\n",
    "fig.tight_layout()\n",
    "#fig.savefig('numerical_convergence_RK4.png',dpi=120)\n",
    "plt.close(fig)"
   ]
  },
  {
   "cell_type": "markdown",
   "id": "d27d4c81",
   "metadata": {},
   "source": [
    "## Inspecting the change in $k$"
   ]
  },
  {
   "cell_type": "code",
   "execution_count": 18,
   "id": "8fa4e253",
   "metadata": {},
   "outputs": [],
   "source": [
    "k0 = wt.ray_k[0,0]\n",
    "k1 = (k0*(2*wt.ray_cg[0,0]))/(wt.U[0,-1,-1].values + (2*wt.ray_cg[0,-2]))\n",
    "\n",
    "fig,ax = plt.subplots(figsize=(14,5))\n",
    "colors = cmocean.cm.thermal(np.linspace(0,1,len(X_coor)))\n",
    "\n",
    "\n",
    "\n",
    "for i in range(len(X_coor)):\n",
    "    #y = omega_x[i][3][0:-1]/ omega_x[i][3][0]\n",
    "    ax.plot(X_coor[i][0:-1],kk[i][0:-1]/k0,\n",
    "            '-o',\n",
    "            label=r'C={}, $\\Delta=${}%'.format(np.round(C[i],2), np.round(np.abs(Del[i]),2)),\n",
    "            c=colors[i],\n",
    "           lw=2,\n",
    "           alpha=0.8)\n",
    "    \n",
    "ax.legend(fontsize=fs-5,loc='lower right')\n",
    "ax.grid()\n",
    "ax.set_ylabel(r'$k/k_{0}$',fontsize=fs)\n",
    "ax.set_xlabel(r'$X$[m]',fontsize=fs)\n",
    "ax.set_xlim([1000,3000])\n",
    "ax.set_ylim([0.95,1.2])\n",
    "\n",
    "\n",
    "\n",
    "ax.axvline(wt.x[19],c='tab:green',ls='--',lw=4,alpha=0.4)\n",
    "ax.axvline(wt.x[20],c='tab:green',ls='--',lw=4,alpha=0.4)\n",
    "\n",
    "ax.axhline(k1/k0,c='k',ls='--',lw=4,alpha=0.4)\n",
    "ax.fill_between(wt.x[20::],0,2,color='tab:green',alpha=0.5)\n",
    "\n",
    "ax.text(wt.x[20],1.205,r'U=-1',fontsize=fs-3,c='k',horizontalalignment='center')\n",
    "ax.text(wt.x[19],1.205,r'U=0',fontsize=fs-3,c='k',horizontalalignment='center')\n",
    "\n",
    "ax.text(wt.x[11]+30,1.16,r'$k_{an}$ for U=-1',fontsize=fs-3,c='k',horizontalalignment='center')\n",
    "\n",
    "fig.tight_layout()\n",
    "#fig.savefig('numerical_convergence_for_k_RK4.png',dpi=120)\n",
    "plt.close(fig)"
   ]
  },
  {
   "cell_type": "markdown",
   "id": "1710b215",
   "metadata": {},
   "source": [
    "## Compute $\\omega$\n",
    "\n",
    "$$\\omega = \\sigma + \\mathbf{k}\\cdot\\mathbf{U}$$"
   ]
  },
  {
   "cell_type": "code",
   "execution_count": 19,
   "id": "ca95bed0",
   "metadata": {},
   "outputs": [
    {
     "name": "stdout",
     "output_type": "stream",
     "text": [
      "-0.0015814090866245211\n",
      "-0.0015814090866245211\n"
     ]
    }
   ],
   "source": [
    "ray_id = 4\n",
    "omega = wt.sigma(wt.ray_k[ray_id,:],wt.ray_depth[ray_id,:]) + wt.ray_kx[ray_id,:]*wt.ray_U[ray_id,:] + wt.ray_ky[ray_id,:]*wt.ray_V[ray_id,:]\n",
    "omega_field = wt.sigma(wt.ray_k,wt.ray_depth) + wt.ray_kx*wt.ray_U + wt.ray_ky*wt.ray_V\n",
    "\n",
    "print(((omega[0]-omega[-2])/omega[0])*100)\n",
    "print(((omega_field[5,0]-omega_field[5,-2])/omega_field[5,0])*100)"
   ]
  }
 ],
 "metadata": {
  "kernelspec": {
   "display_name": "Python 3 (ipykernel)",
   "language": "python",
   "name": "python3"
  },
  "language_info": {
   "codemirror_mode": {
    "name": "ipython",
    "version": 3
   },
   "file_extension": ".py",
   "mimetype": "text/x-python",
   "name": "python",
   "nbconvert_exporter": "python",
   "pygments_lexer": "ipython3",
   "version": "3.9.6"
  }
 },
 "nbformat": 4,
 "nbformat_minor": 5
}
