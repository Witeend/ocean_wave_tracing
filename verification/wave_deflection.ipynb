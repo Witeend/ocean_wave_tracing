{
 "cells": [
  {
   "cell_type": "markdown",
   "id": "ff84499d",
   "metadata": {},
   "source": [
    "# Verify deflection from constant vorticity\n",
    "from Gallet and Young (2014)\n",
    "\n",
    "vertical vorticity\n",
    "$$\\zeta = \\frac{\\partial v}{\\partial x} - \\frac{\\partial u}{\\partial y}.$$\n",
    "\n",
    "Curvature equation\n",
    "$$\\chi \\simeq \\frac{\\zeta}{c_{g}}.$$\n",
    "\n",
    "deflection angle \n",
    "$$\\theta \\sim \\frac{\\zeta_0 l}{c_{g}}$$\n",
    "\n",
    "See Eq.20 in Gallet and Young (2014)\n"
   ]
  },
  {
   "cell_type": "code",
   "execution_count": 1,
   "id": "49a53d53",
   "metadata": {},
   "outputs": [],
   "source": [
    "import numpy as np\n",
    "import matplotlib.pyplot as plt\n",
    "from scipy.stats import norm\n",
    "import cmocean\n",
    "import xarray as xa\n",
    "import pytest\n",
    "\n",
    "\n",
    "import sys,os\n",
    "testdir = os.path.dirname(os.getcwd() + '/')\n",
    "srcdir = '..'\n",
    "sys.path.insert(0, os.path.abspath(os.path.join(testdir, srcdir)))\n",
    "\n",
    "from ocean_wave_tracing import Wave_tracing\n",
    "\n",
    "%matplotlib inline"
   ]
  },
  {
   "cell_type": "code",
   "execution_count": 2,
   "id": "3158b519",
   "metadata": {},
   "outputs": [],
   "source": [
    "ncin = xa.open_dataset('../notebooks/idealized_input.nc')"
   ]
  },
  {
   "cell_type": "code",
   "execution_count": 3,
   "id": "84264023",
   "metadata": {},
   "outputs": [],
   "source": [
    "# SET DOMAIN\n",
    "\n",
    "X = ncin.x.data\n",
    "Y = ncin.y.data\n",
    "nx = len(X)\n",
    "ny = len(Y)\n",
    "dx=dy=X[1]-X[0]\n",
    "nb_wave_rays = 200#550#nx\n",
    "T = 3000\n",
    "nt = 190 # 1500\n",
    "wave_period = 10 #s\n",
    "X0, XN = X[0], X[-1] \n",
    "Y0, YN = Y[0], Y[-1]"
   ]
  },
  {
   "cell_type": "code",
   "execution_count": 4,
   "id": "09010554",
   "metadata": {},
   "outputs": [],
   "source": [
    "# Solver negative vorticity\n",
    "i_w_side = 'left'\n",
    "theta0=0\n",
    "idt0=0\n",
    "\n",
    "wt = Wave_tracing(ncin.U_vorticity[idt0::,:,:], ncin.V_vorticity[idt0::,:,:], \n",
    "                    nx, ny, nt,T,dx,dy, nb_wave_rays=nb_wave_rays,\n",
    "                    domain_X0=X0, domain_XN=XN,\n",
    "                    domain_Y0=Y0, domain_YN=YN,\n",
    "                     )\n",
    "wt.set_initial_condition(wave_period, theta0,incoming_wave_side=i_w_side)\n",
    "wt.solve()"
   ]
  },
  {
   "cell_type": "code",
   "execution_count": 5,
   "id": "df1277b6",
   "metadata": {},
   "outputs": [],
   "source": [
    "# Solver positive vorticity\n",
    "wt_pos_vort = Wave_tracing(-ncin.U_vorticity[idt0::,:,:], ncin.V_vorticity[idt0::,:,:], \n",
    "                    nx, ny, nt,T,dx,dy, nb_wave_rays=nb_wave_rays,\n",
    "                    domain_X0=X0, domain_XN=XN,\n",
    "                    domain_Y0=Y0, domain_YN=YN,\n",
    "                     )\n",
    "wt_pos_vort.set_initial_condition(wave_period, theta0,incoming_wave_side=i_w_side)\n",
    "wt_pos_vort.solve()"
   ]
  },
  {
   "cell_type": "code",
   "execution_count": 6,
   "id": "a1ef9f8c",
   "metadata": {},
   "outputs": [],
   "source": [
    "vorticity = wt.dvdx-wt.dudy"
   ]
  },
  {
   "cell_type": "markdown",
   "id": "338e3822",
   "metadata": {},
   "source": [
    "## Quantifying the difference between analytical and numerical values"
   ]
  },
  {
   "cell_type": "code",
   "execution_count": 7,
   "id": "0ec7af78",
   "metadata": {},
   "outputs": [],
   "source": [
    "l = 5000-2500\n"
   ]
  },
  {
   "cell_type": "code",
   "execution_count": 8,
   "id": "b4f98750",
   "metadata": {},
   "outputs": [],
   "source": [
    "# negative vorticity\n",
    "\n",
    "zeta_0 = vorticity.min()\n",
    "cg = wt.ray_cg[0,10]\n",
    "theta_analytical = (zeta_0*l)/cg\n",
    "\n",
    "idx=np.argmin(np.abs(wt.ray_x[0,:]-5000))\n",
    "theta_wt = (2*np.pi)-wt.ray_theta[0,idx] # Theta from wave tracing"
   ]
  },
  {
   "cell_type": "code",
   "execution_count": 9,
   "id": "51339ccc",
   "metadata": {},
   "outputs": [],
   "source": [
    "assert theta_analytical == pytest.approx(-theta_wt, 1e-1)"
   ]
  },
  {
   "cell_type": "code",
   "execution_count": 10,
   "id": "3914073a",
   "metadata": {},
   "outputs": [
    {
     "name": "stdout",
     "output_type": "stream",
     "text": [
      "Relative difference between model and analytical: -1.162 %\n"
     ]
    }
   ],
   "source": [
    "rel_diff = ((np.abs(theta_wt)-np.abs(theta_analytical))/np.abs(theta_analytical))*100\n",
    "print(\"Relative difference between model and analytical: {} %\".format(np.round(rel_diff,3)))"
   ]
  },
  {
   "cell_type": "code",
   "execution_count": 11,
   "id": "7f90bd29",
   "metadata": {},
   "outputs": [],
   "source": [
    "# postive vorticity\n",
    "zeta_0_pos = np.abs(vorticity.min())\n",
    "theta_analytical_pos  = (zeta_0_pos*l)/cg"
   ]
  },
  {
   "cell_type": "code",
   "execution_count": 12,
   "id": "8d1b770b",
   "metadata": {},
   "outputs": [],
   "source": [
    "theta_wt_pos = wt_pos_vort.ray_theta[0,idx]"
   ]
  },
  {
   "cell_type": "code",
   "execution_count": 13,
   "id": "9b256efa",
   "metadata": {},
   "outputs": [],
   "source": [
    "assert theta_analytical_pos == pytest.approx(theta_wt_pos, 1e-1)"
   ]
  },
  {
   "cell_type": "code",
   "execution_count": 14,
   "id": "4ec3f9dd",
   "metadata": {},
   "outputs": [
    {
     "name": "stdout",
     "output_type": "stream",
     "text": [
      "Relative difference between model and analytical: -1.185 %\n"
     ]
    }
   ],
   "source": [
    "rel_diff_pos = ((np.abs(theta_wt_pos)-np.abs(theta_analytical_pos))/np.abs(theta_analytical_pos))*100\n",
    "print(\"Relative difference between model and analytical: {} %\".format(np.round(rel_diff_pos,3)))"
   ]
  },
  {
   "cell_type": "markdown",
   "id": "4f4638de",
   "metadata": {},
   "source": [
    "## Plotting"
   ]
  },
  {
   "cell_type": "code",
   "execution_count": 16,
   "id": "4b750940",
   "metadata": {},
   "outputs": [
    {
     "name": "stderr",
     "output_type": "stream",
     "text": [
      "/tmp/ipykernel_21531/4129198646.py:17: MatplotlibDeprecationWarning: shading='flat' when X and Y have the same dimensions as C is deprecated since 3.3.  Either specify the corners of the quadrilaterals with X and Y, or pass shading='auto', 'nearest' or 'gouraud', or set rcParams['pcolor.shading'].  This will become an error two minor releases later.\n",
      "  pc1 = ax[1,1].pcolormesh(wt_pos_vort.x,wt_pos_vort.y,-vorticity[idt0],cmap=cmocean.cm.tarn,vmin=vorticity.min(),vmax=np.abs(vorticity.min()))\n"
     ]
    }
   ],
   "source": [
    "fs=15\n",
    "\n",
    "idx_u0,idx_u1 =1000,7000\n",
    "\n",
    "fig, ax = plt.subplots(nrows=2,ncols=2,sharex='col',sharey=True,figsize=(14,10),\n",
    "                       gridspec_kw={'width_ratios': [1, 6]})\n",
    "\n",
    "pc=ax[0,1].pcolormesh(wt.x,wt.y,vorticity[idt0],cmap=cmocean.cm.tarn,\n",
    "                      vmin=vorticity.min(),vmax=np.abs(vorticity.min()),shading='auto')\n",
    "\n",
    "for aax in [ax[0,1], ax[1,1]]:\n",
    "    aax.axvline(idx_u0,0,ls='--',c='tab:blue')\n",
    "    aax.text(idx_u0+20,100,r'$X=x_1$',c='tab:blue',fontsize=fs)\n",
    "    aax.axvline(idx_u1,0,ls='--',c='tab:orange')\n",
    "    aax.text(idx_u1+20,100,r'$X=x_2$',c='tab:orange',fontsize=fs)\n",
    "\n",
    "pc1 = ax[1,1].pcolormesh(wt_pos_vort.x,wt_pos_vort.y,-vorticity[idt0],cmap=cmocean.cm.tarn,vmin=vorticity.min(),vmax=np.abs(vorticity.min()))\n",
    "\n",
    "\n",
    "for i in range(0,wt.nb_wave_rays,5):\n",
    "    ax[0,1].plot(wt.ray_x[i,:],wt.ray_y[i,:],'-y',alpha=0.6)\n",
    "    ax[1,1].plot(wt_pos_vort.ray_x[i,:],wt_pos_vort.ray_y[i,:],'-y',alpha=0.6)\n",
    "    \n",
    "ax[0,1].set_xlim([X0,XN])\n",
    "ax[0,1].set_ylim([Y0,YN])\n",
    "\n",
    "\n",
    "\n",
    "ax[0,0].plot(wt.U.isel(time=idt0).sel(x=idx_u0),wt.y,c='tab:blue',label=r'$X=x_1$')\n",
    "ax[0,0].plot(wt.U.isel(time=idt0).sel(x=idx_u1),wt.y,c='tab:orange',label=r'$X=x_2$')\n",
    "\n",
    "ax[1,0].plot(wt_pos_vort.U.isel(time=idt0).sel(x=idx_u0),wt.y,c='tab:blue',label=r'$X=x_1$')\n",
    "ax[1,0].plot(wt_pos_vort.U.isel(time=idt0).sel(x=idx_u1),wt.y,c='tab:orange',label=r'$X=x_2$')\n",
    "\n",
    "for i,aax in enumerate([ax[0,0], ax[1,0]]):\n",
    "    aax.legend(loc='upper right')\n",
    "    aax.grid()    \n",
    "    aax.set_ylabel(r'$Y~[m]$',fontsize=fs)\n",
    "    if i == 1:\n",
    "        aax.set_xlabel(r'$U(y)~[ms^{-1}]$',fontsize=fs)\n",
    "    \n",
    "ax[1,1].set_xlabel(r'$X~[m]$',fontsize=fs)\n",
    "    \n",
    "\n",
    "#fig.tight_layout()\n",
    "\n",
    "cb0=fig.colorbar(pc,ax=ax)\n",
    "cb0.ax.set_title(r'$\\zeta~[s^{-1}]$',fontsize=fs)\n",
    "\n",
    "\n",
    "ax[0,1].text(17500,8500,\n",
    "            r'$\\Delta=${}%'.format(np.round(rel_diff,3)),horizontalalignment='center',\n",
    "            fontsize=fs-2,c='1')\n",
    "\n",
    "ax[1,1].text(17500,1500,\n",
    "            r'$\\Delta=${}%'.format(np.round(rel_diff_pos,3)),horizontalalignment='center',\n",
    "            fontsize=fs-2,c='1')\n",
    "\n",
    "\n",
    "ax[0,1].tick_params(axis='both',labelsize=fs-4)\n",
    "ax[1,1].tick_params(axis='both',labelsize=fs-4)\n",
    "cb0.ax.tick_params(labelsize=fs-4)\n",
    "\n",
    "#fig.savefig('wave_deflection.png',dpi=125)\n",
    "plt.close(fig)"
   ]
  },
  {
   "cell_type": "markdown",
   "id": "1452ad17",
   "metadata": {},
   "source": [
    "## Summary\n",
    "The wave ray delfection difference between negative and positive vorticity $\\zeta$ is due to the advection of the current, which is also incorporated in the relative differences together with numerical noise. "
   ]
  },
  {
   "cell_type": "code",
   "execution_count": null,
   "id": "47ec57b8",
   "metadata": {},
   "outputs": [],
   "source": []
  }
 ],
 "metadata": {
  "kernelspec": {
   "display_name": "Python 3 (ipykernel)",
   "language": "python",
   "name": "python3"
  },
  "language_info": {
   "codemirror_mode": {
    "name": "ipython",
    "version": 3
   },
   "file_extension": ".py",
   "mimetype": "text/x-python",
   "name": "python",
   "nbconvert_exporter": "python",
   "pygments_lexer": "ipython3",
   "version": "3.9.6"
  }
 },
 "nbformat": 4,
 "nbformat_minor": 5
}
