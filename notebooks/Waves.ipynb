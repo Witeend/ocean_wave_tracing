{
 "cells": [
  {
   "cell_type": "code",
   "execution_count": 1,
   "id": "3a1db588-20b1-4b19-86de-d2f36cb3818f",
   "metadata": {},
   "outputs": [
    {
     "ename": "ModuleNotFoundError",
     "evalue": "No module named 'pyproj'",
     "output_type": "error",
     "traceback": [
      "\u001b[1;31m---------------------------------------------------------------------------\u001b[0m",
      "\u001b[1;31mModuleNotFoundError\u001b[0m                       Traceback (most recent call last)",
      "Cell \u001b[1;32mIn[1], line 6\u001b[0m\n\u001b[0;32m      3\u001b[0m \u001b[38;5;28;01mimport\u001b[39;00m \u001b[38;5;21;01mmatplotlib\u001b[39;00m\u001b[38;5;21;01m.\u001b[39;00m\u001b[38;5;21;01mpyplot\u001b[39;00m \u001b[38;5;28;01mas\u001b[39;00m \u001b[38;5;21;01mplt\u001b[39;00m\n\u001b[0;32m      5\u001b[0m sys\u001b[38;5;241m.\u001b[39mpath\u001b[38;5;241m.\u001b[39minsert(\u001b[38;5;241m1\u001b[39m, \u001b[38;5;124m'\u001b[39m\u001b[38;5;124m/Users/tpvan/Waves/ocean_wave_tracing\u001b[39m\u001b[38;5;124m'\u001b[39m)\n\u001b[1;32m----> 6\u001b[0m \u001b[38;5;28;01mfrom\u001b[39;00m \u001b[38;5;21;01mocean_wave_tracing\u001b[39;00m\u001b[38;5;21;01m.\u001b[39;00m\u001b[38;5;21;01mocean_wave_tracing\u001b[39;00m \u001b[38;5;28;01mimport\u001b[39;00m Wave_tracing\n\u001b[0;32m      8\u001b[0m \u001b[38;5;66;03m# Defining some properties of the medium\u001b[39;00m\n\u001b[0;32m      9\u001b[0m nx \u001b[38;5;241m=\u001b[39m \u001b[38;5;241m5000\u001b[39m; ny \u001b[38;5;241m=\u001b[39m \u001b[38;5;241m5000\u001b[39m \u001b[38;5;66;03m# number of grid points in x- and y-direction\u001b[39;00m\n",
      "File \u001b[1;32mC:\\Users/tpvan/Waves/ocean_wave_tracing\\ocean_wave_tracing\\__init__.py:1\u001b[0m\n\u001b[1;32m----> 1\u001b[0m \u001b[38;5;28;01mfrom\u001b[39;00m \u001b[38;5;21;01m.\u001b[39;00m\u001b[38;5;21;01mocean_wave_tracing\u001b[39;00m \u001b[38;5;28;01mimport\u001b[39;00m Wave_tracing\n",
      "File \u001b[1;32mC:\\Users/tpvan/Waves/ocean_wave_tracing\\ocean_wave_tracing\\ocean_wave_tracing.py:5\u001b[0m\n\u001b[0;32m      3\u001b[0m \u001b[38;5;28;01mimport\u001b[39;00m \u001b[38;5;21;01mlogging\u001b[39;00m\n\u001b[0;32m      4\u001b[0m \u001b[38;5;28;01mimport\u001b[39;00m \u001b[38;5;21;01mxarray\u001b[39;00m \u001b[38;5;28;01mas\u001b[39;00m \u001b[38;5;21;01mxa\u001b[39;00m\n\u001b[1;32m----> 5\u001b[0m \u001b[38;5;28;01mimport\u001b[39;00m \u001b[38;5;21;01mpyproj\u001b[39;00m\n\u001b[0;32m      6\u001b[0m \u001b[38;5;28;01mimport\u001b[39;00m \u001b[38;5;21;01msys\u001b[39;00m\n\u001b[0;32m      7\u001b[0m \u001b[38;5;28;01mimport\u001b[39;00m \u001b[38;5;21;01mcmocean\u001b[39;00m\u001b[38;5;21;01m.\u001b[39;00m\u001b[38;5;21;01mcm\u001b[39;00m \u001b[38;5;28;01mas\u001b[39;00m \u001b[38;5;21;01mcm\u001b[39;00m\n",
      "\u001b[1;31mModuleNotFoundError\u001b[0m: No module named 'pyproj'"
     ]
    }
   ],
   "source": [
    "import sys\n",
    "import numpy as np\n",
    "import matplotlib.pyplot as plt\n",
    "\n",
    "sys.path.insert(1, '/Users/tpvan/Waves/ocean_wave_tracing')\n",
    "from ocean_wave_tracing.ocean_wave_tracing import Wave_tracing\n",
    "\n",
    "# Defining some properties of the medium\n",
    "nx = 5000; ny = 5000 # number of grid points in x- and y-direction\n",
    "x = np.linspace(0,2000,nx) # size x-domain [m]\n",
    "y = np.linspace(0,1000,ny) # size y-domain [m]\n",
    "T = 300 # simulation time [s]\n",
    "U=np.zeros((ny,nx))\n",
    "V=np.zeros((ny,nx))\n",
    "# U[ny//2:,:]=1\n",
    "\n",
    "rays=6\n",
    "\n",
    "d_off = 10\n",
    "d_bw = 1\n",
    "\n",
    "d = np.ones((ny, nx)) * d_off\n",
    "\n",
    "for i in range(ny):\n",
    "    d[i, :] -= np.ones(nx) * d_off * (1 - i / (ny - 1))\n",
    "\n",
    "\n",
    "\n",
    "d[int(ny//2-ny/20):int(ny//2+ny/20), int(nx//2-nx/4):int(nx//2+nx/4)] = np.ones((int(ny/10), int(nx/2))) * d_bw\n",
    "\n",
    "# Define a wave tracing object\n",
    "wt = Wave_tracing(U=U,V=V,\n",
    "                       nx=nx, ny=ny, nt=5000,T=T,\n",
    "                       dx=x[1]-x[0],dy=y[1]-y[0],\n",
    "                       nb_wave_rays=rays,\n",
    "                       domain_X0=x[0], domain_XN=x[-1],\n",
    "                       domain_Y0=y[0], domain_YN=y[-1],\n",
    "                       d=d)\n",
    "\n",
    "# Set initial conditions\n",
    "wt.set_initial_condition(wave_period=10,\n",
    "                          theta0=-0.3*np.pi, ipx=np.linspace(-2000, 2000, rays), ipy=np.ones(rays)*1000)\n",
    "\n",
    "# Solve\n",
    "wt.solve()\n",
    "\n",
    "# Plot\n",
    "fig, ax = plt.subplots(figsize=(12, 6));\n",
    "# pc=ax.pcolormesh(wt.x,wt.y,wt.U.isel(time=0),shading='auto', cmap='Wistia')\n",
    "pc=ax.pcolormesh(wt.x,wt.y,wt.d,shading='auto', cmap='Wistia')\n",
    "dc=fig.colorbar(pc)\n",
    "dc.set_label('depth [m]')\n",
    "\n",
    "for ray_id in range(wt.nb_wave_rays):\n",
    "    ax.plot(wt.ray_x[ray_id,:],wt.ray_y[ray_id,:],'-k')\n",
    "\n",
    "plt.xlim(x.min(), x.max())\n",
    "plt.ylim(y.min(), y.max())\n",
    "\n",
    "# ax.quiver(x, y, U ,V)\n",
    "plt.show()"
   ]
  },
  {
   "cell_type": "code",
   "execution_count": null,
   "id": "7e951990-a935-4b6c-967e-b769de45cf28",
   "metadata": {},
   "outputs": [],
   "source": []
  }
 ],
 "metadata": {
  "kernelspec": {
   "display_name": "Python 3 (ipykernel)",
   "language": "python",
   "name": "python3"
  },
  "language_info": {
   "codemirror_mode": {
    "name": "ipython",
    "version": 3
   },
   "file_extension": ".py",
   "mimetype": "text/x-python",
   "name": "python",
   "nbconvert_exporter": "python",
   "pygments_lexer": "ipython3",
   "version": "3.11.5"
  }
 },
 "nbformat": 4,
 "nbformat_minor": 5
}
