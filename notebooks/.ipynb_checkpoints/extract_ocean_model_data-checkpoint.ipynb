{
 "cells": [
  {
   "cell_type": "markdown",
   "metadata": {},
   "source": [
    "# Script for extracting ocean model data and writing field subsets to netCDF"
   ]
  },
  {
   "cell_type": "code",
   "execution_count": 1,
   "metadata": {},
   "outputs": [],
   "source": [
    "import numpy as np\n",
    "import xarray as xa\n",
    "import matplotlib.pyplot as plt\n",
    "import cmocean\n",
    "import datetime\n",
    "import cartopy.crs as ccrs\n",
    "import pandas as pd\n",
    "import scipy.ndimage as nd                                                                                                                                                          "
   ]
  },
  {
   "cell_type": "code",
   "execution_count": 2,
   "metadata": {},
   "outputs": [],
   "source": [
    "# Specify NK800 or Barents2.5, two operational ocean circulation models at the Norwegian Meteorological Institute\n",
    "model = \"NK\"#\"Barents\" #\"NK\""
   ]
  },
  {
   "cell_type": "code",
   "execution_count": 3,
   "metadata": {},
   "outputs": [],
   "source": [
    "#Read data\n",
    "if model == \"NK\":\n",
    "    roms_file = 'https://thredds.met.no/thredds/dodsC/sea/norkyst800m/1h/aggregate_be'\n",
    "    ocn_m = xa.open_dataset(roms_file)\n",
    "elif model == \"Barents\":\n",
    "    roms_file = 'https://thredds.met.no/thredds/dodsC/barents25km_agg'\n",
    "    ocn_m = xa.open_dataset(roms_file)\n",
    "\n"
   ]
  },
  {
   "cell_type": "markdown",
   "metadata": {},
   "source": [
    "## File variable naming convention\n",
    "Here, it important for the user to know the convention of the ocean model. For the two examples provided, the $\\mathbf{U} = (U,V)$ components are denoted\n",
    "- u_eastward, v_northward in NK\n",
    "- u, v in Barents.\n",
    "\n",
    "Furthermore, the recall the convention of the depth data, which in the two examples provided use $h$."
   ]
  },
  {
   "cell_type": "markdown",
   "metadata": {},
   "source": [
    "## Data subsetting\n",
    "Data can be subset in terms of \n",
    "1. variables (VOI: variables of interest)\n",
    "2. horizontal extent (AOI: area of interest)\n",
    "3. temporal extent (TOI: times of interest)\n",
    "\n",
    "Here we will show an example of such subsetting. First we plot the overview of the data, and an AOI based on the total extent"
   ]
  },
  {
   "cell_type": "code",
   "execution_count": 4,
   "metadata": {},
   "outputs": [
    {
     "data": {
      "text/plain": [
       "<matplotlib.collections.QuadMesh at 0x7f39c4197fa0>"
      ]
     },
     "execution_count": 4,
     "metadata": {},
     "output_type": "execute_result"
    },
    {
     "data": {
      "image/png": "[encoded data removed]",
      "text/plain": [
       "<Figure size 648x216 with 2 Axes>"
      ]
     },
     "metadata": {
      "needs_background": "light"
     },
     "output_type": "display_data"
    }
   ],
   "source": [
    "wetmask = ocn_m.h.data > 11.\n",
    "wetmask = nd.binary_erosion(wetmask)\n",
    "\n",
    "# Bounding boxes for AOI \n",
    "bbox_idx = slice(1350,1700,1) #latitude AOI\n",
    "bbox_idy = slice(610,680,1) #longitude AOI\n",
    "\n",
    "fig,ax = plt.subplots(ncols=2,figsize=(9,3))\n",
    "ax[0].pcolormesh(wetmask)\n",
    "ax[1].pcolormesh(wetmask[bbox_idy,bbox_idx])"
   ]
  },
  {
   "cell_type": "markdown",
   "metadata": {},
   "source": [
    "Now, we define the subsets for VOI and TOI"
   ]
  },
  {
   "cell_type": "code",
   "execution_count": 5,
   "metadata": {},
   "outputs": [],
   "source": [
    "# Variables of interest\n",
    "VOI = [ \n",
    "    'u_eastward',\n",
    "    'v_northward',\n",
    "    'h'\n",
    "]"
   ]
  },
  {
   "cell_type": "code",
   "execution_count": 13,
   "metadata": {},
   "outputs": [],
   "source": [
    "TOI=pd.date_range(\"2019-01-04T07\",'2019-01-04T21', periods=15)"
   ]
  },
  {
   "cell_type": "markdown",
   "metadata": {},
   "source": [
    "We then apply the subsets of the ocn_m object utilizing the selection utility of xarray. Note that we only select the surface current layer"
   ]
  },
  {
   "cell_type": "code",
   "execution_count": 14,
   "metadata": {},
   "outputs": [],
   "source": [
    "ocn_m_subset=ocn_m[VOI].sel(time=TOI,method='nearest').isel(depth=0,X=bbox_idx,Y=bbox_idy)"
   ]
  },
  {
   "cell_type": "markdown",
   "metadata": {},
   "source": [
    "# Write to NetCDF\n",
    "Once the subset is created, it can now be written to disk"
   ]
  },
  {
   "cell_type": "code",
   "execution_count": 15,
   "metadata": {},
   "outputs": [],
   "source": [
    "ocn_m_subset.to_netcdf('ocean_model_subset.nc')"
   ]
  }
 ],
 "metadata": {
  "kernelspec": {
   "display_name": "Python 3 (ipykernel)",
   "language": "python",
   "name": "python3"
  },
  "language_info": {
   "codemirror_mode": {
    "name": "ipython",
    "version": 3
   },
   "file_extension": ".py",
   "mimetype": "text/x-python",
   "name": "python",
   "nbconvert_exporter": "python",
   "pygments_lexer": "ipython3",
   "version": "3.9.6"
  }
 },
 "nbformat": 4,
 "nbformat_minor": 2
}
