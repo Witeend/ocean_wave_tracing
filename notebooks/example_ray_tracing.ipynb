{
 "cells": [
  {
   "cell_type": "markdown",
   "id": "bf6293d8",
   "metadata": {},
   "source": [
    "# Example notebook for running the software ocean model forcing\n",
    "\n",
    "The example is using ambient current and bathymetry from a ROMS model. The area of interest is Lofoten in Northern Norway. More specifically, the current field is a strong tidal current called The Lofoten Maelstrom (local name Moskstraumen).\n"
   ]
  },
  {
   "cell_type": "code",
   "execution_count": null,
   "id": "b7044949",
   "metadata": {},
   "outputs": [],
   "source": [
    "import numpy as np\n",
    "import matplotlib.pyplot as plt\n",
    "from scipy.stats import norm\n",
    "import cmocean\n",
    "import xarray as xa\n",
    "import scipy.ndimage as nd\n",
    "import cartopy.crs as ccrs\n",
    "\n",
    "import sys,os\n",
    "testdir = os.path.dirname(os.getcwd() + '/')\n",
    "srcdir = '..'\n",
    "sys.path.insert(0, os.path.abspath(os.path.join(testdir, srcdir)))\n",
    "\n",
    "from ocean_wave_tracing import Wave_tracing\n",
    "import util_solvers as uts\n",
    "\n",
    "%matplotlib inline"
   ]
  },
  {
   "cell_type": "code",
   "execution_count": null,
   "id": "6cae7500",
   "metadata": {},
   "outputs": [],
   "source": [
    "### PLOTTING\n",
    "\n",
    "import cartopy.crs as ccrs\n",
    "import cartopy.feature as cfeature\n",
    "\n",
    "data_crs = ccrs.PlateCarree()\n",
    "crs_kws = dict(projection=ccrs.Mercator(),facecolor='gray')\n",
    "geodetic = ccrs.Geodetic(globe=ccrs.Globe(datum='WGS84'))\n",
    "\n",
    "# SET plot extent\n",
    "lonmin, lonmax, latmin, latmax = 12.1+0.4, 13.2, 67.7-0.1, 68\n",
    "plot_extent = [lonmin, lonmax, latmin, latmax ]\n",
    "\n",
    "#lscale='full'\n",
    "lscale='intermediate'\n",
    "f = cfeature.GSHHSFeature(scale=lscale, levels=[1],\n",
    "        facecolor=cfeature.COLORS['land'])\n",
    "\n",
    "#Fontsize\n",
    "fs=12"
   ]
  },
  {
   "cell_type": "code",
   "execution_count": null,
   "id": "10892eed",
   "metadata": {},
   "outputs": [],
   "source": [
    "# READ ROMS DATA for IT\n",
    "da_u = xa.open_dataset('example_ambient_conditions/u.nc')\n",
    "da_v = xa.open_dataset('example_ambient_conditions/v.nc')\n",
    "da_d = xa.open_dataset('example_ambient_conditions/depth.nc')"
   ]
  },
  {
   "cell_type": "code",
   "execution_count": null,
   "id": "78b21f0d",
   "metadata": {},
   "outputs": [],
   "source": [
    "analysis_date = '2019-01-06T01'\n",
    "uu=da_u.u_eastward.sel(time=analysis_date)\n",
    "vv=da_v.v_northward.sel(time=analysis_date)\n",
    "depth=da_d.h.values"
   ]
  },
  {
   "cell_type": "code",
   "execution_count": null,
   "id": "74eced20",
   "metadata": {},
   "outputs": [],
   "source": [
    "# SET conditions for wave tracing\n",
    "\n",
    "# Domain\n",
    "X = da_u.X\n",
    "Y = da_u.Y\n",
    "X0, XN = X[0].data, X[-1].data\n",
    "Y0, YN = Y[0].data, Y[-1].data\n",
    "\n",
    "# Resolution\n",
    "nx = len(X)\n",
    "ny = len(Y)\n",
    "dx=dy=800\n",
    "\n",
    "# Number of rays\n",
    "nb_wave_rays =140# 400#330 #350\n",
    "\n",
    "# Duration (in seconds)\n",
    "T = 1.2*3600\n",
    "print(\"T={}h\".format(T/3600))\n",
    "\n",
    "# Number of discrete time steps\n",
    "nt = 400\n",
    "\n",
    "# Numerical solver\n",
    "solver = uts.RungeKutta4\n"
   ]
  },
  {
   "cell_type": "code",
   "execution_count": null,
   "id": "eeff9bf8",
   "metadata": {},
   "outputs": [],
   "source": [
    "# Initial conditions\n",
    "\n",
    "wave_period = 13 # [s]\n",
    "theta0 = np.ones(nb_wave_rays)*(-0.57*np.pi) # [rad]\n",
    "\n",
    "\n",
    "# Initial position\n",
    "# Here, it is also possible to set a side of the domain (i.e. left, right, top, bottom):\n",
    "# incoming_wave_side = 'top'\n",
    "ipx = np.linspace(1.2e6,1.25e6,nb_wave_rays) # initial position x\n",
    "ipy = np.ones(nb_wave_rays)*5.35e5 # initial position y\n"
   ]
  },
  {
   "cell_type": "markdown",
   "id": "82efa030",
   "metadata": {},
   "source": [
    "## Run the code\n",
    "Here, if setting $X=0$ in $U=uu*X$ and $V=vv*X$, the impact of bathymetry is given."
   ]
  },
  {
   "cell_type": "code",
   "execution_count": null,
   "id": "d397dc97",
   "metadata": {},
   "outputs": [],
   "source": [
    "# Set up the model domain with ambient conditions\n",
    "\n",
    "wt = Wave_tracing(U=uu*1,V=vv*1,\n",
    "                       nx=nx, ny=ny, nt=nt,T=T,\n",
    "                       dx=dx,dy=dy, nb_wave_rays=nb_wave_rays,\n",
    "                       domain_X0=X0, domain_XN=XN,\n",
    "                       domain_Y0=Y0, domain_YN=YN,\n",
    "                       d=depth,                       \n",
    "                      )\n",
    "\n",
    "# Set initial conditions\n",
    "wt.set_initial_condition(wave_period=wave_period, \n",
    "                              theta0=theta0,ipx=ipx,ipy=ipy,\n",
    "                              )#,incoming_wave_side=incoming_wave_side)\n",
    "# Solve\n",
    "wt.solve()"
   ]
  },
  {
   "cell_type": "code",
   "execution_count": null,
   "id": "adb8d358",
   "metadata": {},
   "outputs": [],
   "source": [
    "# Proj4 string used for georeferencing the wave rays\n",
    "proj4='+proj=stere +ellps=WGS84 +lat_0=90.0 +lat_ts=60.0 +x_0=3192800 +y_0=1784000 +lon_0=70' #NK800\n",
    "lons_wc,lats_wc=wt.to_latlon(proj4)"
   ]
  },
  {
   "cell_type": "markdown",
   "id": "5c46efad",
   "metadata": {},
   "source": [
    "## Plotting"
   ]
  },
  {
   "cell_type": "code",
   "execution_count": null,
   "id": "cf191bc1",
   "metadata": {},
   "outputs": [],
   "source": [
    "fig, ax = plt.subplots(frameon=False,ncols=1,figsize=(6,8),sharex=True,sharey=True,\n",
    "                subplot_kw={'projection': ccrs.Mercator(), 'facecolor':\"gray\"})\n",
    "speed = np.sqrt(uu**2 + vv**2)\n",
    "\n",
    "cf0=ax.pcolormesh(da_u.lon, da_u.lat, speed[:,:],\n",
    "                           cmap=cmocean.cm.speed, vmax=2, transform=ccrs.PlateCarree())\n",
    "\n",
    "step=1\n",
    "for i in range(0,wt.nb_wave_rays,step):\n",
    "    if i == 0:\n",
    "        ax.plot(lons_wc[i,:],lats_wc[i,:],'-',c='tab:red',\n",
    "                transform=ccrs.PlateCarree(),alpha=1,lw=1,label='Wave ray')\n",
    "    else:\n",
    "        ax.plot(lons_wc[i,:],lats_wc[i,:],'-',c='tab:red',transform=ccrs.PlateCarree(),alpha=1,lw=1)\n",
    "\n",
    "#for i in range(0,wt.nb_wave_rays,1):\n",
    "#    ax.plot(lons_wc[i,:],lats_wc[i,:],'-',c='tab:red',transform=ccrs.PlateCarree(),alpha=1,lw=1)\n",
    "#    ax2[1].plot(lons_nc[i,:],lats_nc[i,:],'-',c='tab:red',transform=ccrs.PlateCarree(),alpha=1,lw=1)\n",
    "\n",
    "ax.legend(fontsize=fs,loc='lower right')\n",
    "\n",
    "\n",
    "ax.set_extent(plot_extent, geodetic)\n",
    "ax.add_geometries(\n",
    "        f.intersecting_geometries([lonmin, lonmax, latmin-.1, latmax]),\n",
    "        ccrs.PlateCarree(),\n",
    "        facecolor=cfeature.COLORS['land_alt1'],\n",
    "        edgecolor='black',alpha=0.5,linewidth=2)\n",
    "\n",
    "cb = fig.colorbar(cf0, orientation='horizontal',shrink=0.6,pad=0.02)\n",
    "cb.set_label('Current speed [m/s]',fontsize=fs)\n",
    "\n",
    "cb.ax.tick_params(labelsize=fs-2) \n",
    "\n",
    "ax.tick_params(labelsize=fs)\n",
    "\n",
    "\n",
    "fig.tight_layout()\n",
    "### PLOTTING\n",
    "\n",
    "import cartopy.crs as ccrs\n",
    "import cartopy.feature as cfeature\n",
    "\n",
    "data_crs = ccrs.PlateCarree()\n",
    "crs_kws = dict(projection=ccrs.Mercator(),facecolor='gray')\n",
    "geodetic = ccrs.Geodetic(globe=ccrs.Globe(datum='WGS84'))\n",
    "\n",
    "# SET plot extent\n",
    "lonmin, lonmax, latmin, latmax = 12.1+0.4, 13.2, 67.7-0.1, 68\n",
    "plot_extent = [lonmin, lonmax, latmin, latmax ]\n",
    "\n",
    "lscale='intermediate'\n",
    "f = cfeature.GSHHSFeature(scale=lscale, levels=[1],\n",
    "        facecolor=cfeature.COLORS['land'])\n"
   ]
  },
  {
   "cell_type": "markdown",
   "id": "03ac725f",
   "metadata": {},
   "source": [
    "## Export wave rays to NetCDF"
   ]
  },
  {
   "cell_type": "code",
   "execution_count": null,
   "id": "b4a0f13a",
   "metadata": {},
   "outputs": [],
   "source": [
    "wt.to_NetCDF('wt_example.nc',proj4=proj4)"
   ]
  }
 ],
 "metadata": {
  "kernelspec": {
   "display_name": "Python 3 (ipykernel)",
   "language": "python",
   "name": "python3"
  },
  "language_info": {
   "codemirror_mode": {
    "name": "ipython",
    "version": 3
   },
   "file_extension": ".py",
   "mimetype": "text/x-python",
   "name": "python",
   "nbconvert_exporter": "python",
   "pygments_lexer": "ipython3",
   "version": "3.9.6"
  }
 },
 "nbformat": 4,
 "nbformat_minor": 5
}
